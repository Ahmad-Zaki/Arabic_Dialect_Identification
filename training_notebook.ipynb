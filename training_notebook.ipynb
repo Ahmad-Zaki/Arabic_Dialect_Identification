{
 "cells": [
  {
   "cell_type": "markdown",
   "metadata": {},
   "source": [
    "## Importing Libraries"
   ]
  },
  {
   "cell_type": "code",
   "execution_count": 1,
   "metadata": {},
   "outputs": [],
   "source": [
    "from nltk.corpus import stopwords\n",
    "import pandas as pd\n",
    "from preprocessing import preprocessing_pipeline, train_val_test_split\n",
    "from sklearn.linear_model import LogisticRegression\n",
    "from sklearn.svm import LinearSVC\n",
    "from sklearn.metrics import ConfusionMatrixDisplay\n",
    "from sklearn.pipeline import make_pipeline\n",
    "from utils import confusion_matrix, report\n",
    "\n",
    "#Supress Warnings:\n",
    "import warnings\n",
    "warnings.filterwarnings('ignore')"
   ]
  },
  {
   "cell_type": "markdown",
   "metadata": {},
   "source": [
    "## Loading and spliting the data"
   ]
  },
  {
   "cell_type": "code",
   "execution_count": 2,
   "metadata": {},
   "outputs": [],
   "source": [
    "df = pd.read_csv(r\"Datasets/dialect_dataset.csv\", header=0)"
   ]
  },
  {
   "cell_type": "code",
   "execution_count": 3,
   "metadata": {},
   "outputs": [],
   "source": [
    "X_train, X_val, X_test, y_train, y_val, y_test = train_val_test_split(df[\"text\"], df[\"dialect\"])"
   ]
  },
  {
   "cell_type": "markdown",
   "metadata": {},
   "source": [
    "## Building the pipeline"
   ]
  },
  {
   "cell_type": "code",
   "execution_count": 4,
   "metadata": {},
   "outputs": [],
   "source": [
    "stopwords_list = set(stopwords.words('arabic'))\n",
    "preprocessing = preprocessing_pipeline([\"tfidf\"],\n",
    "                                        ngram_range=(1, 5), \n",
    "                                        min_df=10)\n",
    "model = LogisticRegression()"
   ]
  },
  {
   "cell_type": "code",
   "execution_count": 5,
   "metadata": {},
   "outputs": [
    {
     "data": {
      "text/plain": [
       "Pipeline(steps=[('pipeline',\n",
       "                 Pipeline(steps=[('tfidfvectorizer',\n",
       "                                  TfidfVectorizer(min_df=10,\n",
       "                                                  ngram_range=(1, 5)))])),\n",
       "                ('logisticregression', LogisticRegression())])"
      ]
     },
     "execution_count": 5,
     "metadata": {},
     "output_type": "execute_result"
    }
   ],
   "source": [
    "pipeline = make_pipeline(preprocessing, model)\n",
    "pipeline.fit(X_train, y_train)"
   ]
  },
  {
   "cell_type": "markdown",
   "metadata": {},
   "source": [
    "## Model performance assessment"
   ]
  },
  {
   "cell_type": "code",
   "execution_count": 6,
   "metadata": {},
   "outputs": [],
   "source": [
    "y_train_pred = pipeline.predict(X_train)\n",
    "y_val_pred = pipeline.predict(X_val)\n",
    "y_test_pred = pipeline.predict(X_test)"
   ]
  },
  {
   "cell_type": "code",
   "execution_count": 7,
   "metadata": {},
   "outputs": [
    {
     "name": "stdout",
     "output_type": "stream",
     "text": [
      "  Training set Classification Report:\n",
      "              precision    recall  f1-score   support\n",
      "\n",
      "          AE     0.6639    0.5909    0.6253     21036\n",
      "          BH     0.6622    0.5257    0.5861     21034\n",
      "          DZ     0.7996    0.6323    0.7061     12947\n",
      "          EG     0.7233    0.9170    0.8087     46108\n",
      "          IQ     0.7864    0.6252    0.6966     12397\n",
      "          JO     0.7440    0.4908    0.5914     22337\n",
      "          KW     0.5310    0.8074    0.6407     33687\n",
      "          LB     0.7484    0.7700    0.7590     22093\n",
      "          LY     0.7426    0.7888    0.7650     29199\n",
      "          MA     0.8780    0.6527    0.7488      9231\n",
      "          OM     0.7004    0.4858    0.5737     15293\n",
      "          PL     0.5677    0.7465    0.6450     34994\n",
      "          QA     0.6887    0.6681    0.6783     24855\n",
      "          SA     0.5581    0.5887    0.5729     21466\n",
      "          SD     0.8459    0.5910    0.6959     11548\n",
      "          SY     0.7505    0.4643    0.5737     12994\n",
      "          TN     0.8356    0.4596    0.5931      7397\n",
      "          YE     0.7518    0.2342    0.3572      7941\n",
      "\n",
      "    accuracy                         0.6734    366557\n",
      "   macro avg     0.7210    0.6133    0.6454    366557\n",
      "weighted avg     0.6916    0.6734    0.6672    366557\n",
      "\n"
     ]
    }
   ],
   "source": [
    "report(\"Training\", y_train, y_train_pred)"
   ]
  },
  {
   "cell_type": "code",
   "execution_count": 10,
   "metadata": {},
   "outputs": [
    {
     "name": "stdout",
     "output_type": "stream",
     "text": [
      "  Validation set Classification Report:\n",
      "              precision    recall  f1-score   support\n",
      "\n",
      "          AE     0.5695    0.5000    0.5325      2630\n",
      "          BH     0.5413    0.4009    0.4607      2629\n",
      "          DZ     0.7418    0.5698    0.6445      1618\n",
      "          EG     0.6827    0.8878    0.7719      5764\n",
      "          IQ     0.7255    0.5594    0.6317      1550\n",
      "          JO     0.6391    0.3843    0.4800      2792\n",
      "          KW     0.4629    0.7402    0.5696      4211\n",
      "          LB     0.6851    0.7028    0.6938      2762\n",
      "          LY     0.6747    0.7285    0.7006      3650\n",
      "          MA     0.8590    0.6282    0.7257      1154\n",
      "          OM     0.6145    0.4171    0.4969      1911\n",
      "          PL     0.4930    0.6822    0.5724      4374\n",
      "          QA     0.6214    0.5806    0.6003      3107\n",
      "          SA     0.4613    0.4715    0.4664      2683\n",
      "          SD     0.7908    0.5343    0.6377      1443\n",
      "          SY     0.6340    0.3627    0.4614      1624\n",
      "          TN     0.8083    0.4011    0.5361       925\n",
      "          YE     0.6790    0.1662    0.2670       993\n",
      "\n",
      "    accuracy                         0.6010     45820\n",
      "   macro avg     0.6491    0.5399    0.5694     45820\n",
      "weighted avg     0.6188    0.6010    0.5922     45820\n",
      "\n"
     ]
    }
   ],
   "source": [
    "report(\"Validation\", y_val, y_val_pred)"
   ]
  },
  {
   "cell_type": "code",
   "execution_count": null,
   "metadata": {},
   "outputs": [],
   "source": [
    "confusion_matrix(y_train, y_train_pred, y_val, y_val_pred)"
   ]
  },
  {
   "cell_type": "code",
   "execution_count": 11,
   "metadata": {},
   "outputs": [
    {
     "name": "stdout",
     "output_type": "stream",
     "text": [
      "  Testing set Classification Report:\n",
      "              precision    recall  f1-score   support\n",
      "\n",
      "          AE     0.5668    0.4985    0.5304      2630\n",
      "          BH     0.5613    0.4199    0.4804      2629\n",
      "          DZ     0.7384    0.5494    0.6300      1618\n",
      "          EG     0.6870    0.8874    0.7745      5764\n",
      "          IQ     0.7292    0.5716    0.6409      1550\n",
      "          JO     0.6400    0.4044    0.4956      2792\n",
      "          KW     0.4557    0.7141    0.5564      4211\n",
      "          LB     0.6733    0.7067    0.6896      2762\n",
      "          LY     0.6844    0.7296    0.7063      3650\n",
      "          MA     0.8251    0.6049    0.6980      1154\n",
      "          OM     0.6281    0.4168    0.5011      1912\n",
      "          PL     0.5003    0.6710    0.5732      4374\n",
      "          QA     0.6114    0.5961    0.6037      3107\n",
      "          SA     0.4635    0.4920    0.4773      2683\n",
      "          SD     0.8114    0.5426    0.6503      1443\n",
      "          SY     0.6404    0.3805    0.4774      1624\n",
      "          TN     0.8009    0.3961    0.5301       924\n",
      "          YE     0.6738    0.1893    0.2956       993\n",
      "\n",
      "    accuracy                         0.6026     45820\n",
      "   macro avg     0.6495    0.5428    0.5728     45820\n",
      "weighted avg     0.6203    0.6026    0.5951     45820\n",
      "\n"
     ]
    }
   ],
   "source": [
    "report(\"Testing\", y_test, y_test_pred)"
   ]
  },
  {
   "cell_type": "code",
   "execution_count": null,
   "metadata": {},
   "outputs": [],
   "source": [
    "ConfusionMatrixDisplay.from_predictions(y_test, y_test_pred,\n",
    "                                        cmap = \"cividis\", \n",
    "                                        xticks_rotation = \"vertical\")"
   ]
  }
 ],
 "metadata": {
  "interpreter": {
   "hash": "ec26fe652b81aa16e73f5f2489daa0bd9f355124f013eb8138d239f76af89ec7"
  },
  "kernelspec": {
   "display_name": "Python 3.9.7 ('base')",
   "language": "python",
   "name": "python3"
  },
  "language_info": {
   "codemirror_mode": {
    "name": "ipython",
    "version": 3
   },
   "file_extension": ".py",
   "mimetype": "text/x-python",
   "name": "python",
   "nbconvert_exporter": "python",
   "pygments_lexer": "ipython3",
   "version": "3.9.7"
  },
  "orig_nbformat": 4
 },
 "nbformat": 4,
 "nbformat_minor": 2
}
